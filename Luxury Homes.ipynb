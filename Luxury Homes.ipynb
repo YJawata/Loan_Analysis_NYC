{
 "cells": [
  {
   "cell_type": "markdown",
   "metadata": {},
   "source": [
    "# Homes Analysis in New York City"
   ]
  },
  {
   "cell_type": "markdown",
   "metadata": {},
   "source": [
    "## Data Preparation "
   ]
  },
  {
   "cell_type": "code",
   "execution_count": null,
   "metadata": {},
   "outputs": [],
   "source": [
    "import pandas as pd\n",
    "import numpy as np\n",
    "import plotly\n",
    "import plotly.io as pio\n",
    "import plotly.express as px\n",
    "from plotly.graph_objs import Layout,Scatter\n",
    "from plotly.figure_factory._county_choropleth import create_choropleth\n",
    "from plotly import graph_objs as go\n",
    "from plotly.subplots import make_subplots\n",
    "import seaborn as sns\n",
    "import matplotlib.pyplot as plt\n",
    "%matplotlib inline \n",
    "import folium\n",
    "from folium.plugins import MarkerCluster\n",
    "import dash\n",
    "import dash_core_components as dcc\n",
    "import dash_html_components as html\n",
    "from dash.dependencies import Input, Output"
   ]
  },
  {
   "cell_type": "code",
   "execution_count": null,
   "metadata": {},
   "outputs": [],
   "source": [
    "data = pd.read_csv ('https://raw.githubusercontent.com/YJawata/Loan_Analysis_NYC/master/LuxuryLoanPortfolio.csv') "
   ]
  },
  {
   "cell_type": "code",
   "execution_count": null,
   "metadata": {},
   "outputs": [],
   "source": [
    "data.shape"
   ]
  },
  {
   "cell_type": "code",
   "execution_count": null,
   "metadata": {},
   "outputs": [],
   "source": [
    "data.head()"
   ]
  },
  {
   "cell_type": "markdown",
   "metadata": {},
   "source": [
    "Remove space(s) from columns and rename '10_yr_treasury_index_date_funded' to 'ten_yr_treasury_index_date_funded'"
   ]
  },
  {
   "cell_type": "code",
   "execution_count": null,
   "metadata": {},
   "outputs": [],
   "source": [
    "data.columns = data.columns.str.replace(' ', '_')\n",
    "data.rename(columns={'10_yr_treasury_index_date_funded': 'ten_yr_treasury_index_date_funded'}, inplace=True)"
   ]
  },
  {
   "cell_type": "code",
   "execution_count": null,
   "metadata": {
    "scrolled": true
   },
   "outputs": [],
   "source": [
    "#check data type\n",
    "\n",
    "data.info()"
   ]
  },
  {
   "cell_type": "code",
   "execution_count": null,
   "metadata": {},
   "outputs": [],
   "source": [
    "#Gross square and land square feet should be float or integer instead of string\n",
    "\n",
    "cols = [\"LAND_SQUARE_FEET\",\"GROSS_SQUARE_FEET\"] \n",
    "data = (data.drop(cols, axis=1).join(data[cols].apply(pd.to_numeric, errors='coerce')))"
   ]
  },
  {
   "cell_type": "code",
   "execution_count": null,
   "metadata": {
    "scrolled": true
   },
   "outputs": [],
   "source": [
    "data.info()"
   ]
  },
  {
   "cell_type": "code",
   "execution_count": null,
   "metadata": {},
   "outputs": [],
   "source": [
    "data.shape"
   ]
  },
  {
   "cell_type": "markdown",
   "metadata": {},
   "source": [
    "Check missing data."
   ]
  },
  {
   "cell_type": "code",
   "execution_count": null,
   "metadata": {},
   "outputs": [],
   "source": [
    "plt.figure(figsize=(15,15))\n",
    "sns.heatmap(data.isnull(),cmap='viridis')"
   ]
  },
  {
   "cell_type": "markdown",
   "metadata": {},
   "source": [
    "Based on the above data, some missing values are:"
   ]
  },
  {
   "cell_type": "code",
   "execution_count": null,
   "metadata": {
    "scrolled": true
   },
   "outputs": [],
   "source": [
    "missingdata = data.isnull().sum()/len(data)*100\n",
    "\n",
    "print(pd.DataFrame([missingdata[missingdata>0],pd.Series(data.isnull().sum()[data.isnull().sum()>0])], index=['percent missing','number of missing data']))"
   ]
  },
  {
   "cell_type": "markdown",
   "metadata": {},
   "source": [
    "Check for duplicates"
   ]
  },
  {
   "cell_type": "code",
   "execution_count": null,
   "metadata": {},
   "outputs": [],
   "source": [
    "print(sum(data.duplicated()))\n",
    "data[data.duplicated(keep=False)].sort_values(['loan_id']).head(10)"
   ]
  },
  {
   "cell_type": "markdown",
   "metadata": {},
   "source": [
    "## Data Analysis"
   ]
  },
  {
   "cell_type": "markdown",
   "metadata": {},
   "source": [
    "Check for outliers for property_value as this analysis will consider this parameter."
   ]
  },
  {
   "cell_type": "code",
   "execution_count": null,
   "metadata": {
    "scrolled": false
   },
   "outputs": [],
   "source": [
    "fig = go.Figure(data=go.Scatter(\n",
    "    y = data.property_value,\n",
    "    x = data.funded_date,\n",
    "    mode='markers',\n",
    "    marker=dict(\n",
    "        size=3,\n",
    "        color=np.random.randn(500), #set color equal to a variable\n",
    "        colorscale='Viridis', # one of plotly colorscales\n",
    "        showscale=False\n",
    "    )\n",
    "))\n",
    "\n",
    "fig.show()"
   ]
  },
  {
   "cell_type": "markdown",
   "metadata": {},
   "source": [
    "As seen above, there is an outlier. According to the record, this value was derived from a purchase for a plane. As this record is a one-off sale and the occurence is not expected (according to yearly data). Therefore, it will be removed. --Assumption"
   ]
  },
  {
   "cell_type": "code",
   "execution_count": null,
   "metadata": {},
   "outputs": [],
   "source": [
    "data.drop(data[data.property_value > 50000000].index, inplace=True)"
   ]
  },
  {
   "cell_type": "code",
   "execution_count": null,
   "metadata": {},
   "outputs": [],
   "source": [
    "data.reset_index(drop=True)\n",
    "data.shape"
   ]
  },
  {
   "cell_type": "markdown",
   "metadata": {},
   "source": [
    "Choose parameters that are going to be used for the analysis."
   ]
  },
  {
   "cell_type": "code",
   "execution_count": null,
   "metadata": {},
   "outputs": [],
   "source": [
    "#Add year column based on funded_date\n",
    "\n",
    "data['funded_date'] = pd.to_datetime(data['funded_date'])\n",
    "data['Year'] = data['funded_date'].dt.year"
   ]
  },
  {
   "cell_type": "code",
   "execution_count": null,
   "metadata": {},
   "outputs": [],
   "source": [
    "dhomes = data.filter(['Year','funded_amount','duration_years','ten_yr_treasury_index_date_funded',\n",
    "                     'interest_rate_percent','property_value','GROSS_SQUARE_FEET',\"LAND_SQUARE_FEET\",'TOTAL_UNITS'], axis=1)"
   ]
  },
  {
   "cell_type": "markdown",
   "metadata": {},
   "source": [
    "How do parameters correlate to each other?"
   ]
  },
  {
   "cell_type": "code",
   "execution_count": null,
   "metadata": {},
   "outputs": [],
   "source": [
    "# I need to use matplotlib as docker has Authentication issue with chart_studio\n",
    "corr = dhomes.corr()\n",
    "corr.style.background_gradient(cmap='coolwarm').set_precision(2)"
   ]
  },
  {
   "cell_type": "markdown",
   "metadata": {},
   "source": [
    "Based on the above correlation plot, there are multiple parameters that have high correlation values. For instance: Interest rate vs Year, Interest rate vs duration_years, Gross square feet vs Property value, etc. Additionally, it can be assumed that gross square feet is equal to land square feet as the correlation between those parameters is high. Therefore, missing data is filled with the values from land square feet when data is available. -- Assumption "
   ]
  },
  {
   "cell_type": "code",
   "execution_count": null,
   "metadata": {},
   "outputs": [],
   "source": [
    "data.loc[data['LAND_SQUARE_FEET'].isnull(),'LAND_SQUARE_FEET'] = data['GROSS_SQUARE_FEET']\n",
    "data.loc[data['GROSS_SQUARE_FEET'].isnull(),'GROSS_SQUARE_FEET'] = data['LAND_SQUARE_FEET']"
   ]
  },
  {
   "cell_type": "code",
   "execution_count": null,
   "metadata": {},
   "outputs": [],
   "source": [
    "#check the remaining missing values\n",
    "\n",
    "missingdata = data.isnull().sum()/len(data)*100\n",
    "\n",
    "print(pd.DataFrame([missingdata[missingdata>0],pd.Series(data.isnull().sum()[data.isnull().sum()>0])], index=['percent missing','number of missing data']))"
   ]
  },
  {
   "cell_type": "code",
   "execution_count": null,
   "metadata": {
    "scrolled": false
   },
   "outputs": [],
   "source": [
    "#histogram to understand correlation result and its distribution\n",
    "\n",
    "y = data.interest_rate_percent\n",
    "x = data.Year\n",
    "\n",
    "fig = go.Figure()\n",
    "fig.add_trace(go.Histogram2dContour(\n",
    "        x = x,\n",
    "        y = y,\n",
    "        colorscale = 'Blues',\n",
    "        reversescale = True,\n",
    "        name=\"\",\n",
    "        xaxis = 'x',\n",
    "        yaxis = 'y'\n",
    "    ))\n",
    "fig.add_trace(go.Histogram(\n",
    "        y = y,\n",
    "        xaxis = 'x2',\n",
    "        name=\"\",\n",
    "        marker = dict(\n",
    "            color = 'rgba(0,0,0,1)'\n",
    "        )\n",
    "    ))\n",
    "fig.add_trace(go.Histogram(\n",
    "        x = x,\n",
    "        yaxis = 'y2',\n",
    "        name=\"\",\n",
    "        marker = dict(\n",
    "            color = 'rgba(0,0,0,1)'\n",
    "        )\n",
    "    ))\n",
    "\n",
    "fig.update_layout(\n",
    "    autosize = False,\n",
    "    xaxis = dict(\n",
    "        zeroline = False,\n",
    "        domain = [0,0.85],\n",
    "        showgrid = False\n",
    "    ),\n",
    "    yaxis = dict(\n",
    "        zeroline = False,\n",
    "        domain = [0,0.85],\n",
    "        showgrid = False\n",
    "    ),\n",
    "    xaxis2 = dict(\n",
    "        zeroline = False,\n",
    "        domain = [0.85,1],\n",
    "        showgrid = False\n",
    "    ),\n",
    "    yaxis2 = dict(\n",
    "        zeroline = False,\n",
    "        domain = [0.85,1],\n",
    "        showgrid = False\n",
    "    ),\n",
    "    height = 600,\n",
    "    width = 600,\n",
    "    bargap = 0,\n",
    "    hovermode = 'closest',\n",
    "    showlegend = False\n",
    ")\n",
    "\n",
    "fig.show()"
   ]
  },
  {
   "cell_type": "markdown",
   "metadata": {},
   "source": [
    "## Dash"
   ]
  },
  {
   "cell_type": "code",
   "execution_count": null,
   "metadata": {},
   "outputs": [],
   "source": [
    "# Mapping Data\n",
    "\n",
    "data['ZIP']=data['ZIP_CODE'].astype(str)"
   ]
  },
  {
   "cell_type": "code",
   "execution_count": null,
   "metadata": {},
   "outputs": [],
   "source": [
    "# import files to get lat long for each point and county name\n",
    "\n",
    "nyc_zipcodes = pd.read_csv(\"https://raw.githubusercontent.com/YJawata/Loan_Analysis_NYC/master/zip_codes_states.csv\", delimiter=',', dtype=str)\n",
    "nyc_brg = pd.read_csv(\"https://raw.githubusercontent.com/YJawata/Loan_Analysis_NYC/master/nyc_neighboor.csv\", delimiter=',', dtype=str)"
   ]
  },
  {
   "cell_type": "code",
   "execution_count": null,
   "metadata": {
    "scrolled": true
   },
   "outputs": [],
   "source": [
    "nyc_zipcodes = nyc_zipcodes.rename({'zip': 'ZIP'}, axis=1)\n",
    "nyc_zipcodes.head()"
   ]
  },
  {
   "cell_type": "code",
   "execution_count": null,
   "metadata": {},
   "outputs": [],
   "source": [
    "data['LAT'] = np.nan\n",
    "data['LON'] = np.nan\n",
    "data['COUNTY'] = np.nan"
   ]
  },
  {
   "cell_type": "code",
   "execution_count": null,
   "metadata": {},
   "outputs": [],
   "source": [
    "# fill all the new columns with additional information\n",
    "\n",
    "data['LAT'] = data['ZIP'].map(nyc_zipcodes.set_index('ZIP')['lat'])\n",
    "data['LON'] = data['ZIP'].map(nyc_zipcodes.set_index('ZIP')['lon'])\n",
    "data['COUNTY'] = data['ZIP'].map(nyc_brg.set_index('ZIP')['NBH'])\n",
    "data.shape"
   ]
  },
  {
   "cell_type": "code",
   "execution_count": null,
   "metadata": {},
   "outputs": [],
   "source": [
    "#convert to float from object\n",
    "\n",
    "data[\"LAT\"] = pd.to_numeric(data.LAT, errors='coerce')\n",
    "data[\"LON\"] = pd.to_numeric(data.LON, errors='coerce')"
   ]
  },
  {
   "cell_type": "code",
   "execution_count": null,
   "metadata": {},
   "outputs": [],
   "source": [
    "data.reset_index(drop=True)"
   ]
  },
  {
   "cell_type": "code",
   "execution_count": null,
   "metadata": {},
   "outputs": [],
   "source": [
    "#calculate average property value based on ZIP code for choropleth\n",
    "\n",
    "mapnyc = data[['ZIP','property_value']].sort_values(by = [\"ZIP\"]).reset_index(drop=True)\n",
    "mapnyc.groupby(['ZIP']).mean().reset_index(drop=True)\n",
    "mapnyc"
   ]
  },
  {
   "cell_type": "code",
   "execution_count": null,
   "metadata": {
    "scrolled": false
   },
   "outputs": [],
   "source": [
    "map_nyc_homes = folium.Map(location=[40.7465, -74.0014], zoom_start=12.5, tiles='cartodbpositron')\n",
    "map_nyc_homes.choropleth(geo_data=\"https://raw.githubusercontent.com/YJawata/Loan_Analysis_NYC/master/nyc_zip_code_tabulation_areas_polygons.geojson\",  \n",
    "             data=mapnyc,\n",
    "             columns=['ZIP', 'property_value'], \n",
    "             key_on='feature.properties.postalcode', \n",
    "             nan_fill_color=None,\n",
    "             nan_fill_opacity=0,\n",
    "             fill_color='OrRd', fill_opacity=0.7, line_opacity=0.2,\n",
    "             legend_name='Property Value')\n",
    "\n",
    "mc = MarkerCluster()\n",
    "for i in data.itertuples():\n",
    "    location = [i.LAT,  i.LON]\n",
    "    tooltip = \"City: {}<br> Neighboorhood: {}<br> Zipcode:{}<br> Click for more\".format(i.CITY,i.COUNTY,i.ZIP_CODE)\n",
    "    folium.Marker(location, \n",
    "                  popup=\"\"\"<i>Property Value: </i> <br> <b>${}</b> <br>\n",
    "                  <i>Total units: </i><b><br>{}</b><br>\"\"\".format(round(i.property_value,2), round(i.TOTAL_UNITS,2)), \n",
    "                  tooltip=tooltip).add_to(mc)\n",
    " \n",
    "map_nyc_homes.add_child(mc)\n",
    "map_nyc_homes"
   ]
  },
  {
   "cell_type": "code",
   "execution_count": null,
   "metadata": {},
   "outputs": [],
   "source": [
    "#save file for dash\n",
    "\n",
    "map_nyc_homes.save(outfile='example_map.html')"
   ]
  },
  {
   "cell_type": "code",
   "execution_count": null,
   "metadata": {},
   "outputs": [],
   "source": [
    "#Create a sunburst to help visualising the data\n",
    "\n",
    "data['Luxury']='NYC'\n",
    "data['Category'] = np.where(data['property_value'] >= 3600000, 'more than 3.6M',\n",
    "                            np.where(data['property_value'] <= 2000000, 'less than 2M','2M to 3.6M'))\n",
    "sunburst=data[['Category','purpose','BUILDING_CLASS_CATEGORY']]\n",
    "sunburst['count'] = 1\n",
    "sunburst = sunburst.rename({'count': 'TOTAL_UNITS'}, axis=1)"
   ]
  },
  {
   "cell_type": "code",
   "execution_count": null,
   "metadata": {},
   "outputs": [],
   "source": [
    "fig1=px.sunburst(sunburst,path=['Category','purpose','BUILDING_CLASS_CATEGORY'],values='TOTAL_UNITS',\n",
    "               color= 'TOTAL_UNITS', width= 800, \n",
    "               color_continuous_scale = \"RDBU_r\")\n",
    "fig1.update_layout(uniformtext=dict(minsize=10, mode='hide'))"
   ]
  },
  {
   "cell_type": "code",
   "execution_count": null,
   "metadata": {},
   "outputs": [],
   "source": [
    "#check counts for each year\n",
    "\n",
    "data.groupby(['Year']).size()"
   ]
  },
  {
   "cell_type": "code",
   "execution_count": null,
   "metadata": {},
   "outputs": [],
   "source": [
    "#Create a graphical representation \n",
    "\n",
    "fig2 = make_subplots(specs=[[{\"secondary_y\": True}]])\n",
    "\n",
    "# data strucutre\n",
    "df=pd.DataFrame(data)\n",
    "dfg=df.groupby('Year').sum().reset_index()\n",
    "\n",
    "fig2.add_trace(\n",
    "    go.Bar(\n",
    "        x=dfg.Year,\n",
    "        y=dfg.funded_amount,\n",
    "        orientation='v',\n",
    "        marker_color=\"#33CFA5\",\n",
    "        name=\"Total Loan Amount in USD\"),\n",
    "    secondary_y=False,\n",
    ")\n",
    "\n",
    "fig2.add_trace(\n",
    "    go.Bar(\n",
    "        x=dfg.Year,\n",
    "        y=dfg.GROSS_SQUARE_FEET,\n",
    "        orientation='v',\n",
    "        marker_color=\"RebeccaPurple\",\n",
    "        name=\"Total Gross Square Feet\"),\n",
    "    secondary_y=False,\n",
    ")\n",
    "\n",
    "fig2.add_trace(\n",
    "    go.Box(\n",
    "        x=data['Year'], \n",
    "        y=data['interest_rate_percent'],\n",
    "        marker_color = '#FF851B',\n",
    "        name=\"Interest Rate\"),\n",
    "    secondary_y=True,\n",
    ")\n",
    "\n",
    "fig2.update_layout(\n",
    "    updatemenus=[\n",
    "        dict(\n",
    "            type=\"buttons\",\n",
    "            direction=\"right\",\n",
    "            active=0,\n",
    "            buttons=list([\n",
    "                dict(label=\"Loan Amount\",\n",
    "                     method=\"update\",\n",
    "                     args=[{\"visible\": [True, False, True]},\n",
    "                           {\"title\": \"Yearly Total Loan Amount vs Interest Rate\",\n",
    "                            \"annotations\": []}]),\n",
    "                dict(label=\"Gross Feet Square\",\n",
    "                     method=\"update\",\n",
    "                     args=[{\"visible\": [False, True, True]},\n",
    "                           {\"title\": \"Yearly Total Gross Feet Square Funded vs Interest Rate\",\n",
    "                            \"annotations\": []}]),\n",
    "            \n",
    "            ]),\n",
    "        )\n",
    "    ])\n",
    "\n",
    "\n",
    "# Add figure title\n",
    "fig2.update_layout(hovermode='closest')\n",
    "fig2.update_traces(marker_line_width=0.5, opacity=0.6)\n",
    "\n",
    "# Set x-axis title\n",
    "fig2.update_xaxes(title_text=\"Year\")\n",
    "\n",
    "# Set y-axes titles\n",
    "fig2.update_yaxes(title_text=\"<b>Interest Rate</b>\", range = [0,5], secondary_y=True)\n",
    "\n",
    "fig2.show()"
   ]
  },
  {
   "cell_type": "code",
   "execution_count": null,
   "metadata": {},
   "outputs": [],
   "source": [
    "# Gross square feet funded based on purpose\n",
    "gsc = data[['Year','purpose','GROSS_SQUARE_FEET']].sort_values(by = [\"Year\"]).reset_index(drop=True)\n",
    "gscchart = gsc.groupby(['Year', 'purpose'])['GROSS_SQUARE_FEET'].sum().reset_index()\n",
    "gscchartfinal = gscchart.pivot(index='Year', columns='purpose', values='GROSS_SQUARE_FEET')\n",
    "gscchartfinal.head()"
   ]
  },
  {
   "cell_type": "code",
   "execution_count": null,
   "metadata": {},
   "outputs": [],
   "source": [
    "fig3 = go.Figure()\n",
    "\n",
    "\n",
    "for col in gscchartfinal.columns:\n",
    "    fig3.add_trace(go.Scatter(x=gscchartfinal.index, y=gscchartfinal[col], name = col))\n",
    "    \n",
    "# Set title\n",
    "fig3.update_layout(title=dict(text='Yearly Total Gross Square Feet Funded Based on Purposes'),legend_orientation=\"h\",hovermode = 'x')\n",
    "fig3.update_xaxes(title_text=\"Year\")\n",
    "fig3.update_yaxes(title_text=\"Gross Square Feet\")\n",
    "fig3.show()"
   ]
  },
  {
   "cell_type": "code",
   "execution_count": null,
   "metadata": {},
   "outputs": [],
   "source": [
    "#create dataframe for Total funded_amount per purpose\n",
    "linehomes = data[['Year','purpose','funded_amount']].sort_values(by = [\"Year\"]).reset_index(drop=True)\n",
    "linehomeschart = linehomes.groupby(['Year', 'purpose'])['funded_amount'].sum().reset_index()\n",
    "linechartfinal = linehomeschart.pivot(index='Year', columns='purpose', values='funded_amount')\n",
    "linechartfinal.head()"
   ]
  },
  {
   "cell_type": "code",
   "execution_count": null,
   "metadata": {
    "scrolled": false
   },
   "outputs": [],
   "source": [
    "fig4 = go.Figure()\n",
    "\n",
    "\n",
    "for col in linechartfinal.columns:\n",
    "    fig4.add_trace(go.Scatter(x=linechartfinal.index, y=linechartfinal[col], name = col))\n",
    "    fig4.add_trace(\n",
    "    go.Scatter(x=linechartfinal.index,\n",
    "               y=[linechartfinal[col].mean()] * len(linechartfinal.index),\n",
    "               name=\"Average Yearly Total Loan Amount\",\n",
    "               visible=False,\n",
    "               line=dict(color=\"#F06A6A\", dash=\"dash\")))\n",
    "\n",
    "# Buttons\n",
    "fig4.update_layout(\n",
    "    updatemenus=[\n",
    "        dict(\n",
    "            active=0,\n",
    "            buttons=list([\n",
    "                dict(label=\"All\",\n",
    "                     method=\"update\",\n",
    "                     args=[{\"visible\": [True, False,True, False, True,False, True, False, True, False]},\n",
    "                           {\"title\": \"All\",\n",
    "                            \"annotations\": []}]),\n",
    "                dict(label=\"Boat\",\n",
    "                     method=\"update\",\n",
    "                     args=[{\"visible\": [True, True, False, False, False,False, False, False, False, False]},\n",
    "                           {\"title\": \"Total Loan Amount for Boat\",\n",
    "                            \"annotations\": []}]),\n",
    "                dict(label=\"Commerical Property\",\n",
    "                     method=\"update\",\n",
    "                     args=[{\"visible\": [False, False, True, True, False, False, False, False, False, False]},\n",
    "                           {\"title\": \"Total Loan Amount for Commerical Property\",\n",
    "                            \"annotations\": []}]),\n",
    "                dict(label=\"Home\",\n",
    "                     method=\"update\",\n",
    "                     args=[{\"visible\": [False, False, False, False, True,True, False, False, False, False]},\n",
    "                           {\"title\": \"Total Loan Amount for Home\",\n",
    "                            \"annotations\": []}]),\n",
    "                dict(label=\"Investment Property\",\n",
    "                     method=\"update\",\n",
    "                     args=[{\"visible\": [False, False, False, False, False,False, True, True, False, False]},\n",
    "                           {\"title\": \"Total Loan Amount for Investment Property\",\n",
    "                            \"annotations\": []}]),\n",
    "                dict(label=\"Plane\",\n",
    "                     method=\"update\",\n",
    "                     args=[{\"visible\": [False, False, False, False, False, False, False,False, True, True]},\n",
    "                           {\"title\": \"Total Loan Amount for Plane\",\n",
    "                            \"annotations\": []}]),\n",
    "                \n",
    "            ]),\n",
    "        )\n",
    "    ])\n",
    "\n",
    "# Set title\n",
    "fig4.update_layout(title=dict(text='Yearly Funded Amount on Based on Purposes'),hovermode = 'x')\n",
    "fig4.update_xaxes(title_text=\"Year\")\n",
    "fig4.update_yaxes(title_text=\"Funded Amount\")\n",
    "fig4.show()"
   ]
  },
  {
   "cell_type": "code",
   "execution_count": null,
   "metadata": {
    "scrolled": true
   },
   "outputs": [],
   "source": [
    "# choose parameters that have high correlations\n",
    "\n",
    "scatter = data[[\"GROSS_SQUARE_FEET\",\"BUILDING_CLASS_CATEGORY\",\"duration_years\",\"interest_rate_percent\",\"Year\",\"property_value\",\"funded_amount\",\"purpose\",\"COUNTY\"]].sort_values(by=[\"Year\"]).reset_index(drop=True)"
   ]
  },
  {
   "cell_type": "code",
   "execution_count": null,
   "metadata": {},
   "outputs": [],
   "source": [
    "fig5 = px.scatter(scatter, x=\"funded_amount\", y=\"interest_rate_percent\", animation_frame=\"Year\", \n",
    "                 animation_group=\"BUILDING_CLASS_CATEGORY\", size=\"property_value\", color=\"purpose\", facet_col=\"purpose\",\n",
    "                 hover_name=\"BUILDING_CLASS_CATEGORY\",log_x=False, size_max=45, range_x=[100000,20000000], range_y=[2,5])\n",
    "\n",
    "fig5.update_layout(title=dict(text='Interest Rate vs Purpose vs Building Category'))\n",
    "\n",
    "fig5.show()"
   ]
  },
  {
   "cell_type": "code",
   "execution_count": null,
   "metadata": {},
   "outputs": [],
   "source": [
    "#initiate dash\n",
    "\n",
    "app = dash.Dash()\n",
    "\n",
    "app.layout = html.Div([\n",
    "    html.Div([\n",
    "        html.Div([\n",
    "            html.H1(\"Loan Application Based on Purposes in NYC\"),\n",
    "            html.Iframe(id='map', srcDoc=open('example_map.html', 'r').read(), width='100%', height='800')\n",
    "        ], className=\"six columns\"),\n",
    "        \n",
    "        html.Div([\n",
    "            html.H2( ),\n",
    "            dcc.Graph(id='g1', figure=fig1,style={'width': '100%'\n",
    "        })\n",
    "        ], className=\"six columns\"),\n",
    "        \n",
    "        html.Div([\n",
    "            html.H3( ),\n",
    "            dcc.Graph(id='g2', figure=fig2,style={'width': '100%'\n",
    "        })\n",
    "        ], className=\"six columns\"),\n",
    "        \n",
    "        \n",
    "        html.Div([\n",
    "            html.H4( ),\n",
    "            dcc.Graph(id='g4', figure=fig4,style={'width': '100%'\n",
    "        })\n",
    "        ], className=\"six columns\"),\n",
    "        \n",
    "\n",
    "        html.Div([\n",
    "            html.H5(),\n",
    "            dcc.Graph(id='g5', figure=fig5,style={'width': '100%'\n",
    "        })\n",
    "        ], className=\"six columns\"),\n",
    "    ], className=\"row\")\n",
    "])\n",
    "\n",
    "app.css.append_css({\n",
    "    'external_url': 'https://codepen.io/chriddyp/pen/bWLwgP.css'\n",
    "})\n",
    "\n",
    "if __name__ == '__main__':\n",
    "    app.run_server(host=\"localhost\",port=8050,debug = False)\n"
   ]
  },
  {
   "cell_type": "code",
   "execution_count": null,
   "metadata": {},
   "outputs": [],
   "source": []
  }
 ],
 "metadata": {
  "kernelspec": {
   "display_name": "Python 3",
   "language": "python",
   "name": "python3"
  },
  "language_info": {
   "codemirror_mode": {
    "name": "ipython",
    "version": 3
   },
   "file_extension": ".py",
   "mimetype": "text/x-python",
   "name": "python",
   "nbconvert_exporter": "python",
   "pygments_lexer": "ipython3",
   "version": "3.6.4"
  }
 },
 "nbformat": 4,
 "nbformat_minor": 2
}
